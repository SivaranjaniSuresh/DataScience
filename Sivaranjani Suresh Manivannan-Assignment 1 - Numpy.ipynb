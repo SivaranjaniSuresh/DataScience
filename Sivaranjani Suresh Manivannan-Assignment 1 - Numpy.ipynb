{
 "cells": [
  {
   "cell_type": "code",
   "execution_count": 1,
   "id": "d9581fac",
   "metadata": {},
   "outputs": [],
   "source": [
    "import numpy as np"
   ]
  },
  {
   "cell_type": "markdown",
   "id": "240f78af",
   "metadata": {},
   "source": [
    "# 1. Create NumPy Arrays"
   ]
  },
  {
   "cell_type": "code",
   "execution_count": 2,
   "id": "6769b640",
   "metadata": {},
   "outputs": [
    {
     "data": {
      "text/plain": [
       "array([[1, 2, 3],\n",
       "       [4, 5, 6]])"
      ]
     },
     "execution_count": 2,
     "metadata": {},
     "output_type": "execute_result"
    }
   ],
   "source": [
    "#Question 1 \n",
    "\n",
    "x=np.array([[1,2,3],[4,5,6]])\n",
    "x\n",
    "#Alternatively, \n",
    "#x = [[1,2,3],[4,5,6]]   #Consider a list\n",
    "#np.array(x)             #Converting the list to array\n"
   ]
  },
  {
   "cell_type": "code",
   "execution_count": 3,
   "id": "a669f853",
   "metadata": {},
   "outputs": [
    {
     "data": {
      "text/plain": [
       "array([[1, 2],\n",
       "       [3, 4],\n",
       "       [5, 6]])"
      ]
     },
     "execution_count": 3,
     "metadata": {},
     "output_type": "execute_result"
    }
   ],
   "source": [
    "#Question 2\n",
    "arr = np.arange(1,7).reshape(3,2)\n",
    "arr"
   ]
  },
  {
   "cell_type": "code",
   "execution_count": 4,
   "id": "844fa864",
   "metadata": {},
   "outputs": [
    {
     "data": {
      "text/plain": [
       "51.0"
      ]
     },
     "execution_count": 4,
     "metadata": {},
     "output_type": "execute_result"
    }
   ],
   "source": [
    "#Question 3\n",
    "x = np.arange(2,101,2).mean()\n",
    "x\n",
    "\n",
    "#Alternatively,\n",
    "#x =np.mean(np.arange(2,101,2))"
   ]
  },
  {
   "cell_type": "code",
   "execution_count": 5,
   "id": "4c150114",
   "metadata": {},
   "outputs": [
    {
     "data": {
      "text/plain": [
       "(0.00011437481734488664, 0.9888610889064947)"
      ]
     },
     "execution_count": 5,
     "metadata": {},
     "output_type": "execute_result"
    }
   ],
   "source": [
    "#Question 4\n",
    "np.random.seed(1)\n",
    "y = np.random.random((3, 3, 3)).min()\n",
    "y1 = np.random.random((3, 3, 3)).max()\n",
    "y,y1\n"
   ]
  },
  {
   "cell_type": "code",
   "execution_count": 6,
   "id": "5c5dfe49",
   "metadata": {},
   "outputs": [
    {
     "data": {
      "text/plain": [
       "array([[10, 11, 12, 13],\n",
       "       [14, 15, 16, 17],\n",
       "       [18, 19, 20, 21]])"
      ]
     },
     "execution_count": 6,
     "metadata": {},
     "output_type": "execute_result"
    }
   ],
   "source": [
    "#Question 5\n",
    "arr = np.arange(10,22).reshape(3,4)\n",
    "arr"
   ]
  },
  {
   "cell_type": "code",
   "execution_count": 7,
   "id": "360ccbe1",
   "metadata": {},
   "outputs": [
    {
     "data": {
      "text/plain": [
       "array([ 5,  8, 11, 14, 17, 20, 23, 26, 29, 32])"
      ]
     },
     "execution_count": 7,
     "metadata": {},
     "output_type": "execute_result"
    }
   ],
   "source": [
    "#Question 6\n",
    "arr1 = np.arange(5,33,3)                             \n",
    "arr1"
   ]
  },
  {
   "cell_type": "code",
   "execution_count": 8,
   "id": "6cb3e4e7",
   "metadata": {},
   "outputs": [
    {
     "data": {
      "text/plain": [
       "800"
      ]
     },
     "execution_count": 8,
     "metadata": {},
     "output_type": "execute_result"
    }
   ],
   "source": [
    "#Question 7\n",
    "arr2 = np.random.random((10,10))\n",
    "mem_size = arr2.size*arr2.itemsize\n",
    "mem_size\n",
    "#Alternatively\n",
    "#arr3=np.random.randint(100, size=(10,10)).nbytes\n",
    "#print(arr3)"
   ]
  },
  {
   "cell_type": "code",
   "execution_count": 9,
   "id": "41a4a2e0",
   "metadata": {},
   "outputs": [
    {
     "data": {
      "text/plain": [
       "array([0.25232574, 0.74382585, 0.19542948, 0.58135893, 5.        ,\n",
       "       0.8468288 , 0.23984776, 0.49376971, 0.61995572, 0.8289809 ])"
      ]
     },
     "execution_count": 9,
     "metadata": {},
     "output_type": "execute_result"
    }
   ],
   "source": [
    "#Question 8\n",
    "arr3 = np.random.random(10)\n",
    "arr3[4] = 5\n",
    "arr3"
   ]
  },
  {
   "cell_type": "code",
   "execution_count": 10,
   "id": "5e03123f",
   "metadata": {},
   "outputs": [
    {
     "data": {
      "text/plain": [
       "array([49, 48, 47, 46, 45, 44, 43, 42, 41, 40, 39, 38, 37, 36, 35, 34, 33,\n",
       "       32, 31, 30, 29, 28, 27, 26, 25, 24, 23, 22, 21, 20, 19, 18, 17, 16,\n",
       "       15, 14, 13, 12, 11, 10])"
      ]
     },
     "execution_count": 10,
     "metadata": {},
     "output_type": "execute_result"
    }
   ],
   "source": [
    "#Question 9\n",
    "arr4 = np.arange(10,50)\n",
    "arr4[::-1]\n",
    "\n",
    "#Alternatively\n",
    "#arr5=np.flip(np.arange(10,50,1))\n"
   ]
  },
  {
   "cell_type": "code",
   "execution_count": 11,
   "id": "21426c13",
   "metadata": {},
   "outputs": [
    {
     "data": {
      "text/plain": [
       "array([[0.65358959, 0.11500694],\n",
       "       [0.95028286, 0.4821914 ],\n",
       "       [0.87247454, 0.21233268]])"
      ]
     },
     "execution_count": 11,
     "metadata": {},
     "output_type": "execute_result"
    }
   ],
   "source": [
    "#Question 10\n",
    "np.random.seed(1000)\n",
    "arr5 = np.random.rand(3,2)  \n",
    "arr5"
   ]
  },
  {
   "cell_type": "code",
   "execution_count": 12,
   "id": "c993acdd",
   "metadata": {},
   "outputs": [
    {
     "data": {
      "text/plain": [
       "array([[0., 1., 2., 3., 4.],\n",
       "       [0., 1., 2., 3., 4.],\n",
       "       [0., 1., 2., 3., 4.],\n",
       "       [0., 1., 2., 3., 4.],\n",
       "       [0., 1., 2., 3., 4.]])"
      ]
     },
     "execution_count": 12,
     "metadata": {},
     "output_type": "execute_result"
    }
   ],
   "source": [
    "#Question 11\n",
    "arr7 = np.full((5,5), np.arange(0,5,dtype=float))\n",
    "arr7\n",
    "\n",
    "#Alternatively\n",
    "#arr6 = np.zeros((5,5))\n",
    "#arr6 += np.arange(5)\n",
    "#arr6"
   ]
  },
  {
   "cell_type": "code",
   "execution_count": 13,
   "id": "0b3db048",
   "metadata": {},
   "outputs": [
    {
     "data": {
      "text/plain": [
       "array([[0., 0., 0., 0., 0., 0., 0.],\n",
       "       [0., 1., 1., 1., 1., 1., 0.],\n",
       "       [0., 1., 1., 1., 1., 1., 0.],\n",
       "       [0., 1., 1., 1., 1., 1., 0.],\n",
       "       [0., 1., 1., 1., 1., 1., 0.],\n",
       "       [0., 1., 1., 1., 1., 1., 0.],\n",
       "       [0., 0., 0., 0., 0., 0., 0.]])"
      ]
     },
     "execution_count": 13,
     "metadata": {},
     "output_type": "execute_result"
    }
   ],
   "source": [
    "#Question 12\n",
    "arr7 = np.ones((5,5))\n",
    "x = np.pad(arr7, pad_width=1, mode='constant', constant_values=0)\n",
    "x\n"
   ]
  },
  {
   "cell_type": "code",
   "execution_count": 14,
   "id": "ab731313",
   "metadata": {},
   "outputs": [
    {
     "data": {
      "text/plain": [
       "array([[0, 0, 0, 0, 0],\n",
       "       [1, 0, 0, 0, 0],\n",
       "       [0, 2, 0, 0, 0],\n",
       "       [0, 0, 3, 0, 0],\n",
       "       [0, 0, 0, 4, 0]])"
      ]
     },
     "execution_count": 14,
     "metadata": {},
     "output_type": "execute_result"
    }
   ],
   "source": [
    "#Question 13\n",
    "arr8 = np.diag([1,2,3,4,5])\n",
    "arr9 = np.roll(arr8,1,0)\n",
    "arr9[0,4]=0\n",
    "arr9\n"
   ]
  },
  {
   "cell_type": "code",
   "execution_count": 15,
   "id": "0f08cb7c",
   "metadata": {},
   "outputs": [
    {
     "data": {
      "text/plain": [
       "array([[1., 1., 1., 1., 1., 1., 1., 1., 1., 1.],\n",
       "       [1., 0., 0., 0., 0., 0., 0., 0., 0., 1.],\n",
       "       [1., 0., 0., 0., 0., 0., 0., 0., 0., 1.],\n",
       "       [1., 0., 0., 0., 0., 0., 0., 0., 0., 1.],\n",
       "       [1., 0., 0., 0., 0., 0., 0., 0., 0., 1.],\n",
       "       [1., 0., 0., 0., 0., 0., 0., 0., 0., 1.],\n",
       "       [1., 0., 0., 0., 0., 0., 0., 0., 0., 1.],\n",
       "       [1., 0., 0., 0., 0., 0., 0., 0., 0., 1.],\n",
       "       [1., 0., 0., 0., 0., 0., 0., 0., 0., 1.],\n",
       "       [1., 1., 1., 1., 1., 1., 1., 1., 1., 1.]])"
      ]
     },
     "execution_count": 15,
     "metadata": {},
     "output_type": "execute_result"
    }
   ],
   "source": [
    "#Question 14\n",
    "arr9 = np.ones((10,10))\n",
    "arr9[1:-1, 1:-1] = 0\n",
    "arr9\n"
   ]
  },
  {
   "cell_type": "code",
   "execution_count": 16,
   "id": "2a57e3df",
   "metadata": {},
   "outputs": [
    {
     "name": "stdout",
     "output_type": "stream",
     "text": [
      "[0. 3. 2. 8. 2. 7. 3. 1. 7. 0.]\n",
      "[0. 3. 2. 8. 2. 7. 3. 1. 7. 0.]\n",
      "[0. 3. 2. 8. 2. 7. 3. 1. 7. 0.]\n",
      "[0 3 2 8 2 7 3 1 7 0]\n",
      "[0. 3. 2. 8. 2. 7. 3. 1. 7. 0.]\n"
     ]
    }
   ],
   "source": [
    "#Question 15\n",
    "arr10 = np.random.uniform(0,10,10)\n",
    "\n",
    "print(arr10 - arr10%1)\n",
    "print(arr10 // 1)\n",
    "print(np.floor(arr10))\n",
    "print(arr10.astype(int))\n",
    "print(np.trunc(arr10))"
   ]
  },
  {
   "cell_type": "markdown",
   "id": "e1289fb0",
   "metadata": {},
   "source": [
    "# 2. Operations on NumPy Arrays\n"
   ]
  },
  {
   "cell_type": "code",
   "execution_count": 17,
   "id": "464064d8",
   "metadata": {},
   "outputs": [
    {
     "data": {
      "text/plain": [
       "8"
      ]
     },
     "execution_count": 17,
     "metadata": {},
     "output_type": "execute_result"
    }
   ],
   "source": [
    "#Question 1\n",
    "x = [1, 2, 1, 1, 3, 4, 3, 1, 1, 2, 1, 1, 2]\n",
    "num = 5\n",
    "[i for i, v in enumerate(x) if v == 1][num-1]"
   ]
  },
  {
   "cell_type": "code",
   "execution_count": 18,
   "id": "abafedfb",
   "metadata": {},
   "outputs": [
    {
     "data": {
      "text/plain": [
       "[array([1, 2, 3, 4]), array([5, 6]), array([7, 8, 9]), array([], dtype=int32)]"
      ]
     },
     "execution_count": 18,
     "metadata": {},
     "output_type": "execute_result"
    }
   ],
   "source": [
    "#Question 2\n",
    "x = np.arange(1,10)\n",
    "y = np.split(x,[4,6,9])\n",
    "y"
   ]
  },
  {
   "cell_type": "code",
   "execution_count": 19,
   "id": "cae042e3",
   "metadata": {},
   "outputs": [
    {
     "data": {
      "text/plain": [
       "[array([[ 0,  1],\n",
       "        [ 4,  5],\n",
       "        [ 8,  9],\n",
       "        [12, 13]]),\n",
       " array([[ 2,  3],\n",
       "        [ 6,  7],\n",
       "        [10, 11],\n",
       "        [14, 15]])]"
      ]
     },
     "execution_count": 19,
     "metadata": {},
     "output_type": "execute_result"
    }
   ],
   "source": [
    "#Question 3\n",
    "x = np.arange(0,16).reshape(4,4)\n",
    "np.hsplit(x,2)"
   ]
  },
  {
   "cell_type": "code",
   "execution_count": 20,
   "id": "e6c29945",
   "metadata": {},
   "outputs": [
    {
     "name": "stdout",
     "output_type": "stream",
     "text": [
      "[[ 5 10]\n",
      " [20 25]]\n",
      "20\n"
     ]
    }
   ],
   "source": [
    "#Question 4\n",
    "z1 = np.array([[5,10,15],[20,25,30],[35,40,45]])\n",
    "print(z1[:2, :2])\n",
    "print(z1[1,0])"
   ]
  },
  {
   "cell_type": "code",
   "execution_count": 21,
   "id": "783aa0c6",
   "metadata": {},
   "outputs": [
    {
     "data": {
      "text/plain": [
       "array([[ 1,  2,  3,  7,  8,  9],\n",
       "       [ 4,  5,  6, 10, 11, 12]])"
      ]
     },
     "execution_count": 21,
     "metadata": {},
     "output_type": "execute_result"
    }
   ],
   "source": [
    "#Question 5\n",
    "x = np.array([[1,2,3],[4,5,6]])\n",
    "y = np.array([[7,8,9],[10,11,12]])\n",
    "x,y\n",
    "np.concatenate((x,y), axis = 1)"
   ]
  },
  {
   "cell_type": "code",
   "execution_count": 22,
   "id": "7c2e3c9f",
   "metadata": {},
   "outputs": [
    {
     "name": "stdout",
     "output_type": "stream",
     "text": [
      "[0.5        0.5        0.55555556 0.33333333 0.6       ]\n"
     ]
    }
   ],
   "source": [
    "#Question 6\n",
    "np.random.seed(1000)\n",
    "y=np.random.randint(1,10,size=(5,3))\n",
    "x=np.min(y,axis=1)/np.max(y,axis=1)\n",
    "print(x)"
   ]
  },
  {
   "cell_type": "code",
   "execution_count": 23,
   "id": "26269953",
   "metadata": {},
   "outputs": [
    {
     "data": {
      "text/plain": [
       "array([[ 0.96066644, -1.70233975,  0.47220685,  0.88077732, -0.00727213],\n",
       "       [-0.9783923 , -1.07324334,  0.92238393, -1.17596469, -1.46253904],\n",
       "       [ 0.65567875,  1.60665759, -1.76195895,  0.04128293,  1.10719933],\n",
       "       [ 0.39726572,  0.78480942, -0.74039554,  1.48028113,  0.75933655],\n",
       "       [ 0.14897173, -1.2715502 , -0.45136007,  0.61584836, -0.20835003]])"
      ]
     },
     "execution_count": 23,
     "metadata": {},
     "output_type": "execute_result"
    }
   ],
   "source": [
    "#Question 7\n",
    "np.random.seed(10)\n",
    "x = np.random.random((5,5))\n",
    "norm = (x-np.mean(x))/np.std(x)\n",
    "norm"
   ]
  },
  {
   "cell_type": "code",
   "execution_count": 24,
   "id": "370e4560",
   "metadata": {},
   "outputs": [
    {
     "data": {
      "text/plain": [
       "array([0, 1, 2, 3, 4, 5, 6, 7, 8, 9])"
      ]
     },
     "execution_count": 24,
     "metadata": {},
     "output_type": "execute_result"
    }
   ],
   "source": [
    "#Question 8\n",
    "arr1 = np.arange(0,3)\n",
    "arr2 = np.arange(3,7)\n",
    "arr3 = np.arange(7,10)\n",
    "np.concatenate((arr1, arr2, arr3), axis = 0)"
   ]
  },
  {
   "cell_type": "code",
   "execution_count": 25,
   "id": "cb9d02a0",
   "metadata": {},
   "outputs": [
    {
     "data": {
      "text/plain": [
       "array([38, 17, 26, 51, 21, 19, 29])"
      ]
     },
     "execution_count": 25,
     "metadata": {},
     "output_type": "execute_result"
    }
   ],
   "source": [
    "#Question 9\n",
    "np.random.seed(1)\n",
    "x=np.random.randint(1,100,20)\n",
    "y=x[(x>=15)&(x<=55)]\n",
    "y"
   ]
  },
  {
   "cell_type": "code",
   "execution_count": 29,
   "id": "be4d544d",
   "metadata": {},
   "outputs": [
    {
     "data": {
      "text/plain": [
       "array([1, 3, 5, 7])"
      ]
     },
     "execution_count": 29,
     "metadata": {},
     "output_type": "execute_result"
    }
   ],
   "source": [
    "#Question 10\n",
    "a = np.array([1,2,3,2,3,4,3,4,5,6])\n",
    "b = np.array([7,2,10,2,7,4,9,4,9,8])\n",
    "c = np.arange(len(a)) [a==b]\n",
    "c\n"
   ]
  },
  {
   "cell_type": "code",
   "execution_count": 27,
   "id": "c130d5e0",
   "metadata": {},
   "outputs": [
    {
     "data": {
      "text/plain": [
       "array([ 0, -1,  2, -1,  4, -1,  6, -1,  8, -1, 10, -1, 12, -1, 14, -1, 16,\n",
       "       -1, 18, -1])"
      ]
     },
     "execution_count": 27,
     "metadata": {},
     "output_type": "execute_result"
    }
   ],
   "source": [
    "#Question 11\n",
    "x = np.arange(0,20)\n",
    "x[x % 2 != 0] = -1\n",
    "x"
   ]
  },
  {
   "cell_type": "code",
   "execution_count": 28,
   "id": "b0796d49",
   "metadata": {},
   "outputs": [
    {
     "data": {
      "text/plain": [
       "array([[68, 63, 53, 66],\n",
       "       [65, 54, 65, 51],\n",
       "       [50, 52, 48, 64]])"
      ]
     },
     "execution_count": 28,
     "metadata": {},
     "output_type": "execute_result"
    }
   ],
   "source": [
    "#Question 12\n",
    "x = np.random.randint(0,10,(3,4,3,4))\n",
    "sum1 = x.sum(axis=(-2,-1))\n",
    "sum1"
   ]
  },
  {
   "cell_type": "code",
   "execution_count": null,
   "id": "d103c5e7",
   "metadata": {},
   "outputs": [],
   "source": []
  }
 ],
 "metadata": {
  "kernelspec": {
   "display_name": "Python 3 (ipykernel)",
   "language": "python",
   "name": "python3"
  },
  "language_info": {
   "codemirror_mode": {
    "name": "ipython",
    "version": 3
   },
   "file_extension": ".py",
   "mimetype": "text/x-python",
   "name": "python",
   "nbconvert_exporter": "python",
   "pygments_lexer": "ipython3",
   "version": "3.9.12"
  }
 },
 "nbformat": 4,
 "nbformat_minor": 5
}
